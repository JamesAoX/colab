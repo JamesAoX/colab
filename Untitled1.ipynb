{
  "nbformat": 4,
  "nbformat_minor": 0,
  "metadata": {
    "colab": {
      "provenance": [],
      "toc_visible": true,
      "authorship_tag": "ABX9TyPYiSmpx62YK2tW3KuT4dlU",
      "include_colab_link": true
    },
    "kernelspec": {
      "name": "python3",
      "display_name": "Python 3"
    },
    "language_info": {
      "name": "python"
    }
  },
  "cells": [
    {
      "cell_type": "markdown",
      "metadata": {
        "id": "view-in-github",
        "colab_type": "text"
      },
      "source": [
        "<a href=\"https://colab.research.google.com/github/JamesAoX/colab/blob/main/Untitled1.ipynb\" target=\"_parent\"><img src=\"https://colab.research.google.com/assets/colab-badge.svg\" alt=\"Open In Colab\"/></a>"
      ]
    },
    {
      "cell_type": "code",
      "execution_count": null,
      "metadata": {
        "colab": {
          "base_uri": "https://localhost:8080/",
          "height": 698
        },
        "collapsed": true,
        "id": "INTltC06nJD2",
        "outputId": "7a99c428-9015-440c-e8ec-58d866704671",
        "cellView": "form"
      },
      "outputs": [
        {
          "output_type": "stream",
          "name": "stdout",
          "text": [
            "Requirement already satisfied: tushare in /usr/local/lib/python3.10/dist-packages (1.4.6)\n",
            "Requirement already satisfied: pandas in /usr/local/lib/python3.10/dist-packages (from tushare) (2.0.3)\n",
            "Requirement already satisfied: requests in /usr/local/lib/python3.10/dist-packages (from tushare) (2.31.0)\n",
            "Requirement already satisfied: lxml in /usr/local/lib/python3.10/dist-packages (from tushare) (4.9.4)\n",
            "Requirement already satisfied: simplejson in /usr/local/lib/python3.10/dist-packages (from tushare) (3.19.2)\n",
            "Requirement already satisfied: bs4 in /usr/local/lib/python3.10/dist-packages (from tushare) (0.0.2)\n",
            "Requirement already satisfied: websocket-client==0.57.0 in /usr/local/lib/python3.10/dist-packages (from tushare) (0.57.0)\n",
            "Requirement already satisfied: tqdm in /usr/local/lib/python3.10/dist-packages (from tushare) (4.66.4)\n",
            "Requirement already satisfied: six in /usr/local/lib/python3.10/dist-packages (from websocket-client==0.57.0->tushare) (1.16.0)\n",
            "Requirement already satisfied: beautifulsoup4 in /usr/local/lib/python3.10/dist-packages (from bs4->tushare) (4.12.3)\n",
            "Requirement already satisfied: python-dateutil>=2.8.2 in /usr/local/lib/python3.10/dist-packages (from pandas->tushare) (2.8.2)\n",
            "Requirement already satisfied: pytz>=2020.1 in /usr/local/lib/python3.10/dist-packages (from pandas->tushare) (2023.4)\n",
            "Requirement already satisfied: tzdata>=2022.1 in /usr/local/lib/python3.10/dist-packages (from pandas->tushare) (2024.1)\n",
            "Requirement already satisfied: numpy>=1.21.0 in /usr/local/lib/python3.10/dist-packages (from pandas->tushare) (1.25.2)\n",
            "Requirement already satisfied: charset-normalizer<4,>=2 in /usr/local/lib/python3.10/dist-packages (from requests->tushare) (3.3.2)\n",
            "Requirement already satisfied: idna<4,>=2.5 in /usr/local/lib/python3.10/dist-packages (from requests->tushare) (3.7)\n",
            "Requirement already satisfied: urllib3<3,>=1.21.1 in /usr/local/lib/python3.10/dist-packages (from requests->tushare) (2.0.7)\n",
            "Requirement already satisfied: certifi>=2017.4.17 in /usr/local/lib/python3.10/dist-packages (from requests->tushare) (2024.2.2)\n",
            "Requirement already satisfied: soupsieve>1.2 in /usr/local/lib/python3.10/dist-packages (from beautifulsoup4->bs4->tushare) (2.5)\n"
          ]
        },
        {
          "output_type": "error",
          "ename": "Exception",
          "evalue": "抱歉，您每小时最多访问该接口1次，权限的具体详情访问：https://tushare.pro/document/1?doc_id=108。",
          "traceback": [
            "\u001b[0;31m---------------------------------------------------------------------------\u001b[0m",
            "\u001b[0;31mException\u001b[0m                                 Traceback (most recent call last)",
            "\u001b[0;32m<ipython-input-17-9f46fec10453>\u001b[0m in \u001b[0;36m<cell line: 8>\u001b[0;34m()\u001b[0m\n\u001b[1;32m      6\u001b[0m \u001b[0;34m\u001b[0m\u001b[0m\n\u001b[1;32m      7\u001b[0m \u001b[0;31m# 拉取数据\u001b[0m\u001b[0;34m\u001b[0m\u001b[0;34m\u001b[0m\u001b[0m\n\u001b[0;32m----> 8\u001b[0;31m oriDf = pro.stock_basic(**{\n\u001b[0m\u001b[1;32m      9\u001b[0m     \u001b[0;34m\"ts_code\"\u001b[0m\u001b[0;34m:\u001b[0m \u001b[0;34m\"\"\u001b[0m\u001b[0;34m,\u001b[0m\u001b[0;34m\u001b[0m\u001b[0;34m\u001b[0m\u001b[0m\n\u001b[1;32m     10\u001b[0m     \u001b[0;34m\"name\"\u001b[0m\u001b[0;34m:\u001b[0m \u001b[0;34m\"\"\u001b[0m\u001b[0;34m,\u001b[0m\u001b[0;34m\u001b[0m\u001b[0;34m\u001b[0m\u001b[0m\n",
            "\u001b[0;32m/usr/local/lib/python3.10/dist-packages/tushare/pro/client.py\u001b[0m in \u001b[0;36mquery\u001b[0;34m(self, api_name, fields, **kwargs)\u001b[0m\n\u001b[1;32m     42\u001b[0m             \u001b[0mresult\u001b[0m \u001b[0;34m=\u001b[0m \u001b[0mjson\u001b[0m\u001b[0;34m.\u001b[0m\u001b[0mloads\u001b[0m\u001b[0;34m(\u001b[0m\u001b[0mres\u001b[0m\u001b[0;34m.\u001b[0m\u001b[0mtext\u001b[0m\u001b[0;34m)\u001b[0m\u001b[0;34m\u001b[0m\u001b[0;34m\u001b[0m\u001b[0m\n\u001b[1;32m     43\u001b[0m             \u001b[0;32mif\u001b[0m \u001b[0mresult\u001b[0m\u001b[0;34m[\u001b[0m\u001b[0;34m'code'\u001b[0m\u001b[0;34m]\u001b[0m \u001b[0;34m!=\u001b[0m \u001b[0;36m0\u001b[0m\u001b[0;34m:\u001b[0m\u001b[0;34m\u001b[0m\u001b[0;34m\u001b[0m\u001b[0m\n\u001b[0;32m---> 44\u001b[0;31m                 \u001b[0;32mraise\u001b[0m \u001b[0mException\u001b[0m\u001b[0;34m(\u001b[0m\u001b[0mresult\u001b[0m\u001b[0;34m[\u001b[0m\u001b[0;34m'msg'\u001b[0m\u001b[0;34m]\u001b[0m\u001b[0;34m)\u001b[0m\u001b[0;34m\u001b[0m\u001b[0;34m\u001b[0m\u001b[0m\n\u001b[0m\u001b[1;32m     45\u001b[0m             \u001b[0mdata\u001b[0m \u001b[0;34m=\u001b[0m \u001b[0mresult\u001b[0m\u001b[0;34m[\u001b[0m\u001b[0;34m'data'\u001b[0m\u001b[0;34m]\u001b[0m\u001b[0;34m\u001b[0m\u001b[0;34m\u001b[0m\u001b[0m\n\u001b[1;32m     46\u001b[0m             \u001b[0mcolumns\u001b[0m \u001b[0;34m=\u001b[0m \u001b[0mdata\u001b[0m\u001b[0;34m[\u001b[0m\u001b[0;34m'fields'\u001b[0m\u001b[0;34m]\u001b[0m\u001b[0;34m\u001b[0m\u001b[0;34m\u001b[0m\u001b[0m\n",
            "\u001b[0;31mException\u001b[0m: 抱歉，您每小时最多访问该接口1次，权限的具体详情访问：https://tushare.pro/document/1?doc_id=108。"
          ]
        }
      ],
      "source": [
        "# 导入tushare\n",
        "!pip install tushare\n",
        "import tushare as ts\n",
        "# 初始化pro接口\n",
        "pro = ts.pro_api('589ee15a57147690313f14c221625585f917149a5d8d8fd93c1182a0')\n",
        "\n",
        "# 拉取数据\n",
        "oriDf = pro.stock_basic(**{\n",
        "    \"ts_code\": \"\",\n",
        "    \"name\": \"\",\n",
        "    \"exchange\": \"\",\n",
        "    \"market\": \"\",\n",
        "    \"is_hs\": \"\",\n",
        "    \"list_status\": \"\",\n",
        "    \"limit\": \"\",\n",
        "    \"offset\": \"\"\n",
        "}, fields=[\n",
        "    \"ts_code\",\n",
        "    \"symbol\",\n",
        "    \"name\",\n",
        "    \"area\",\n",
        "    \"industry\",\n",
        "    \"cnspell\",\n",
        "    \"market\",\n",
        "    \"list_date\",\n",
        "    \"act_name\",\n",
        "    \"act_ent_type\"\n",
        "])\n",
        "print(oriDf)\n",
        "\n",
        "df2 = pro.daily(ts_code='000001.SZ')\n",
        "# @title Stock分析\n",
        "\n",
        "from matplotlib import pyplot as plt\n",
        "df2['close'].plot(kind='line', figsize=(8, 4), title='close')\n",
        "plt.gca().spines[['top', 'right']].set_visible(False)\n",
        "\n",
        "import pandas as pd\n",
        "df2.to_csv('./sz_index.csv')\n"
      ]
    },
    {
      "cell_type": "code",
      "source": [
        "df3 = pd.read_csv('./sz_index.csv')\n",
        "df3.head()"
      ],
      "metadata": {
        "collapsed": true,
        "id": "lxlF4mAFo3n5",
        "outputId": "be5ba8dc-325c-4f85-9174-875bbef9252a",
        "colab": {
          "base_uri": "https://localhost:8080/",
          "height": 206
        }
      },
      "execution_count": null,
      "outputs": [
        {
          "output_type": "execute_result",
          "data": {
            "text/plain": [
              "   Unnamed: 0    ts_code  trade_date   open   high    low  close  pre_close  \\\n",
              "0           0  000001.SZ    20240524  11.37  11.49  11.30  11.31      11.40   \n",
              "1           1  000001.SZ    20240523  11.53  11.59  11.37  11.40      11.56   \n",
              "2           2  000001.SZ    20240522  11.56  11.74  11.46  11.56      11.55   \n",
              "3           3  000001.SZ    20240521  11.32  11.62  11.31  11.55      11.38   \n",
              "4           4  000001.SZ    20240520  11.43  11.53  11.31  11.38      11.42   \n",
              "\n",
              "   change  pct_chg         vol       amount  \n",
              "0   -0.09  -0.7895  1398275.84  1593330.336  \n",
              "1   -0.16  -1.3841  1841622.90  2110799.282  \n",
              "2    0.01   0.0866  2115531.38  2458448.970  \n",
              "3    0.17   1.4938  2030049.41  2336192.875  \n",
              "4   -0.04  -0.3503  2170210.30  2475290.152  "
            ],
            "text/html": [
              "\n",
              "  <div id=\"df-22ce0e04-a72a-4480-bc0c-684b4384f770\" class=\"colab-df-container\">\n",
              "    <div>\n",
              "<style scoped>\n",
              "    .dataframe tbody tr th:only-of-type {\n",
              "        vertical-align: middle;\n",
              "    }\n",
              "\n",
              "    .dataframe tbody tr th {\n",
              "        vertical-align: top;\n",
              "    }\n",
              "\n",
              "    .dataframe thead th {\n",
              "        text-align: right;\n",
              "    }\n",
              "</style>\n",
              "<table border=\"1\" class=\"dataframe\">\n",
              "  <thead>\n",
              "    <tr style=\"text-align: right;\">\n",
              "      <th></th>\n",
              "      <th>Unnamed: 0</th>\n",
              "      <th>ts_code</th>\n",
              "      <th>trade_date</th>\n",
              "      <th>open</th>\n",
              "      <th>high</th>\n",
              "      <th>low</th>\n",
              "      <th>close</th>\n",
              "      <th>pre_close</th>\n",
              "      <th>change</th>\n",
              "      <th>pct_chg</th>\n",
              "      <th>vol</th>\n",
              "      <th>amount</th>\n",
              "    </tr>\n",
              "  </thead>\n",
              "  <tbody>\n",
              "    <tr>\n",
              "      <th>0</th>\n",
              "      <td>0</td>\n",
              "      <td>000001.SZ</td>\n",
              "      <td>20240524</td>\n",
              "      <td>11.37</td>\n",
              "      <td>11.49</td>\n",
              "      <td>11.30</td>\n",
              "      <td>11.31</td>\n",
              "      <td>11.40</td>\n",
              "      <td>-0.09</td>\n",
              "      <td>-0.7895</td>\n",
              "      <td>1398275.84</td>\n",
              "      <td>1593330.336</td>\n",
              "    </tr>\n",
              "    <tr>\n",
              "      <th>1</th>\n",
              "      <td>1</td>\n",
              "      <td>000001.SZ</td>\n",
              "      <td>20240523</td>\n",
              "      <td>11.53</td>\n",
              "      <td>11.59</td>\n",
              "      <td>11.37</td>\n",
              "      <td>11.40</td>\n",
              "      <td>11.56</td>\n",
              "      <td>-0.16</td>\n",
              "      <td>-1.3841</td>\n",
              "      <td>1841622.90</td>\n",
              "      <td>2110799.282</td>\n",
              "    </tr>\n",
              "    <tr>\n",
              "      <th>2</th>\n",
              "      <td>2</td>\n",
              "      <td>000001.SZ</td>\n",
              "      <td>20240522</td>\n",
              "      <td>11.56</td>\n",
              "      <td>11.74</td>\n",
              "      <td>11.46</td>\n",
              "      <td>11.56</td>\n",
              "      <td>11.55</td>\n",
              "      <td>0.01</td>\n",
              "      <td>0.0866</td>\n",
              "      <td>2115531.38</td>\n",
              "      <td>2458448.970</td>\n",
              "    </tr>\n",
              "    <tr>\n",
              "      <th>3</th>\n",
              "      <td>3</td>\n",
              "      <td>000001.SZ</td>\n",
              "      <td>20240521</td>\n",
              "      <td>11.32</td>\n",
              "      <td>11.62</td>\n",
              "      <td>11.31</td>\n",
              "      <td>11.55</td>\n",
              "      <td>11.38</td>\n",
              "      <td>0.17</td>\n",
              "      <td>1.4938</td>\n",
              "      <td>2030049.41</td>\n",
              "      <td>2336192.875</td>\n",
              "    </tr>\n",
              "    <tr>\n",
              "      <th>4</th>\n",
              "      <td>4</td>\n",
              "      <td>000001.SZ</td>\n",
              "      <td>20240520</td>\n",
              "      <td>11.43</td>\n",
              "      <td>11.53</td>\n",
              "      <td>11.31</td>\n",
              "      <td>11.38</td>\n",
              "      <td>11.42</td>\n",
              "      <td>-0.04</td>\n",
              "      <td>-0.3503</td>\n",
              "      <td>2170210.30</td>\n",
              "      <td>2475290.152</td>\n",
              "    </tr>\n",
              "  </tbody>\n",
              "</table>\n",
              "</div>\n",
              "    <div class=\"colab-df-buttons\">\n",
              "\n",
              "  <div class=\"colab-df-container\">\n",
              "    <button class=\"colab-df-convert\" onclick=\"convertToInteractive('df-22ce0e04-a72a-4480-bc0c-684b4384f770')\"\n",
              "            title=\"Convert this dataframe to an interactive table.\"\n",
              "            style=\"display:none;\">\n",
              "\n",
              "  <svg xmlns=\"http://www.w3.org/2000/svg\" height=\"24px\" viewBox=\"0 -960 960 960\">\n",
              "    <path d=\"M120-120v-720h720v720H120Zm60-500h600v-160H180v160Zm220 220h160v-160H400v160Zm0 220h160v-160H400v160ZM180-400h160v-160H180v160Zm440 0h160v-160H620v160ZM180-180h160v-160H180v160Zm440 0h160v-160H620v160Z\"/>\n",
              "  </svg>\n",
              "    </button>\n",
              "\n",
              "  <style>\n",
              "    .colab-df-container {\n",
              "      display:flex;\n",
              "      gap: 12px;\n",
              "    }\n",
              "\n",
              "    .colab-df-convert {\n",
              "      background-color: #E8F0FE;\n",
              "      border: none;\n",
              "      border-radius: 50%;\n",
              "      cursor: pointer;\n",
              "      display: none;\n",
              "      fill: #1967D2;\n",
              "      height: 32px;\n",
              "      padding: 0 0 0 0;\n",
              "      width: 32px;\n",
              "    }\n",
              "\n",
              "    .colab-df-convert:hover {\n",
              "      background-color: #E2EBFA;\n",
              "      box-shadow: 0px 1px 2px rgba(60, 64, 67, 0.3), 0px 1px 3px 1px rgba(60, 64, 67, 0.15);\n",
              "      fill: #174EA6;\n",
              "    }\n",
              "\n",
              "    .colab-df-buttons div {\n",
              "      margin-bottom: 4px;\n",
              "    }\n",
              "\n",
              "    [theme=dark] .colab-df-convert {\n",
              "      background-color: #3B4455;\n",
              "      fill: #D2E3FC;\n",
              "    }\n",
              "\n",
              "    [theme=dark] .colab-df-convert:hover {\n",
              "      background-color: #434B5C;\n",
              "      box-shadow: 0px 1px 3px 1px rgba(0, 0, 0, 0.15);\n",
              "      filter: drop-shadow(0px 1px 2px rgba(0, 0, 0, 0.3));\n",
              "      fill: #FFFFFF;\n",
              "    }\n",
              "  </style>\n",
              "\n",
              "    <script>\n",
              "      const buttonEl =\n",
              "        document.querySelector('#df-22ce0e04-a72a-4480-bc0c-684b4384f770 button.colab-df-convert');\n",
              "      buttonEl.style.display =\n",
              "        google.colab.kernel.accessAllowed ? 'block' : 'none';\n",
              "\n",
              "      async function convertToInteractive(key) {\n",
              "        const element = document.querySelector('#df-22ce0e04-a72a-4480-bc0c-684b4384f770');\n",
              "        const dataTable =\n",
              "          await google.colab.kernel.invokeFunction('convertToInteractive',\n",
              "                                                    [key], {});\n",
              "        if (!dataTable) return;\n",
              "\n",
              "        const docLinkHtml = 'Like what you see? Visit the ' +\n",
              "          '<a target=\"_blank\" href=https://colab.research.google.com/notebooks/data_table.ipynb>data table notebook</a>'\n",
              "          + ' to learn more about interactive tables.';\n",
              "        element.innerHTML = '';\n",
              "        dataTable['output_type'] = 'display_data';\n",
              "        await google.colab.output.renderOutput(dataTable, element);\n",
              "        const docLink = document.createElement('div');\n",
              "        docLink.innerHTML = docLinkHtml;\n",
              "        element.appendChild(docLink);\n",
              "      }\n",
              "    </script>\n",
              "  </div>\n",
              "\n",
              "\n",
              "<div id=\"df-f8e1ed22-0971-4671-a387-ed9579cbeaf6\">\n",
              "  <button class=\"colab-df-quickchart\" onclick=\"quickchart('df-f8e1ed22-0971-4671-a387-ed9579cbeaf6')\"\n",
              "            title=\"Suggest charts\"\n",
              "            style=\"display:none;\">\n",
              "\n",
              "<svg xmlns=\"http://www.w3.org/2000/svg\" height=\"24px\"viewBox=\"0 0 24 24\"\n",
              "     width=\"24px\">\n",
              "    <g>\n",
              "        <path d=\"M19 3H5c-1.1 0-2 .9-2 2v14c0 1.1.9 2 2 2h14c1.1 0 2-.9 2-2V5c0-1.1-.9-2-2-2zM9 17H7v-7h2v7zm4 0h-2V7h2v10zm4 0h-2v-4h2v4z\"/>\n",
              "    </g>\n",
              "</svg>\n",
              "  </button>\n",
              "\n",
              "<style>\n",
              "  .colab-df-quickchart {\n",
              "      --bg-color: #E8F0FE;\n",
              "      --fill-color: #1967D2;\n",
              "      --hover-bg-color: #E2EBFA;\n",
              "      --hover-fill-color: #174EA6;\n",
              "      --disabled-fill-color: #AAA;\n",
              "      --disabled-bg-color: #DDD;\n",
              "  }\n",
              "\n",
              "  [theme=dark] .colab-df-quickchart {\n",
              "      --bg-color: #3B4455;\n",
              "      --fill-color: #D2E3FC;\n",
              "      --hover-bg-color: #434B5C;\n",
              "      --hover-fill-color: #FFFFFF;\n",
              "      --disabled-bg-color: #3B4455;\n",
              "      --disabled-fill-color: #666;\n",
              "  }\n",
              "\n",
              "  .colab-df-quickchart {\n",
              "    background-color: var(--bg-color);\n",
              "    border: none;\n",
              "    border-radius: 50%;\n",
              "    cursor: pointer;\n",
              "    display: none;\n",
              "    fill: var(--fill-color);\n",
              "    height: 32px;\n",
              "    padding: 0;\n",
              "    width: 32px;\n",
              "  }\n",
              "\n",
              "  .colab-df-quickchart:hover {\n",
              "    background-color: var(--hover-bg-color);\n",
              "    box-shadow: 0 1px 2px rgba(60, 64, 67, 0.3), 0 1px 3px 1px rgba(60, 64, 67, 0.15);\n",
              "    fill: var(--button-hover-fill-color);\n",
              "  }\n",
              "\n",
              "  .colab-df-quickchart-complete:disabled,\n",
              "  .colab-df-quickchart-complete:disabled:hover {\n",
              "    background-color: var(--disabled-bg-color);\n",
              "    fill: var(--disabled-fill-color);\n",
              "    box-shadow: none;\n",
              "  }\n",
              "\n",
              "  .colab-df-spinner {\n",
              "    border: 2px solid var(--fill-color);\n",
              "    border-color: transparent;\n",
              "    border-bottom-color: var(--fill-color);\n",
              "    animation:\n",
              "      spin 1s steps(1) infinite;\n",
              "  }\n",
              "\n",
              "  @keyframes spin {\n",
              "    0% {\n",
              "      border-color: transparent;\n",
              "      border-bottom-color: var(--fill-color);\n",
              "      border-left-color: var(--fill-color);\n",
              "    }\n",
              "    20% {\n",
              "      border-color: transparent;\n",
              "      border-left-color: var(--fill-color);\n",
              "      border-top-color: var(--fill-color);\n",
              "    }\n",
              "    30% {\n",
              "      border-color: transparent;\n",
              "      border-left-color: var(--fill-color);\n",
              "      border-top-color: var(--fill-color);\n",
              "      border-right-color: var(--fill-color);\n",
              "    }\n",
              "    40% {\n",
              "      border-color: transparent;\n",
              "      border-right-color: var(--fill-color);\n",
              "      border-top-color: var(--fill-color);\n",
              "    }\n",
              "    60% {\n",
              "      border-color: transparent;\n",
              "      border-right-color: var(--fill-color);\n",
              "    }\n",
              "    80% {\n",
              "      border-color: transparent;\n",
              "      border-right-color: var(--fill-color);\n",
              "      border-bottom-color: var(--fill-color);\n",
              "    }\n",
              "    90% {\n",
              "      border-color: transparent;\n",
              "      border-bottom-color: var(--fill-color);\n",
              "    }\n",
              "  }\n",
              "</style>\n",
              "\n",
              "  <script>\n",
              "    async function quickchart(key) {\n",
              "      const quickchartButtonEl =\n",
              "        document.querySelector('#' + key + ' button');\n",
              "      quickchartButtonEl.disabled = true;  // To prevent multiple clicks.\n",
              "      quickchartButtonEl.classList.add('colab-df-spinner');\n",
              "      try {\n",
              "        const charts = await google.colab.kernel.invokeFunction(\n",
              "            'suggestCharts', [key], {});\n",
              "      } catch (error) {\n",
              "        console.error('Error during call to suggestCharts:', error);\n",
              "      }\n",
              "      quickchartButtonEl.classList.remove('colab-df-spinner');\n",
              "      quickchartButtonEl.classList.add('colab-df-quickchart-complete');\n",
              "    }\n",
              "    (() => {\n",
              "      let quickchartButtonEl =\n",
              "        document.querySelector('#df-f8e1ed22-0971-4671-a387-ed9579cbeaf6 button');\n",
              "      quickchartButtonEl.style.display =\n",
              "        google.colab.kernel.accessAllowed ? 'block' : 'none';\n",
              "    })();\n",
              "  </script>\n",
              "</div>\n",
              "    </div>\n",
              "  </div>\n"
            ],
            "application/vnd.google.colaboratory.intrinsic+json": {
              "type": "dataframe",
              "variable_name": "df3",
              "summary": "{\n  \"name\": \"df3\",\n  \"rows\": 6000,\n  \"fields\": [\n    {\n      \"column\": \"Unnamed: 0\",\n      \"properties\": {\n        \"dtype\": \"number\",\n        \"std\": 1732,\n        \"min\": 0,\n        \"max\": 5999,\n        \"num_unique_values\": 6000,\n        \"samples\": [\n          1782,\n          3917,\n          221\n        ],\n        \"semantic_type\": \"\",\n        \"description\": \"\"\n      }\n    },\n    {\n      \"column\": \"ts_code\",\n      \"properties\": {\n        \"dtype\": \"category\",\n        \"num_unique_values\": 1,\n        \"samples\": [\n          \"000001.SZ\"\n        ],\n        \"semantic_type\": \"\",\n        \"description\": \"\"\n      }\n    },\n    {\n      \"column\": \"trade_date\",\n      \"properties\": {\n        \"dtype\": \"number\",\n        \"std\": 73991,\n        \"min\": 19981211,\n        \"max\": 20240524,\n        \"num_unique_values\": 6000,\n        \"samples\": [\n          20170118\n        ],\n        \"semantic_type\": \"\",\n        \"description\": \"\"\n      }\n    },\n    {\n      \"column\": \"open\",\n      \"properties\": {\n        \"dtype\": \"number\",\n        \"std\": 6.028715896984889,\n        \"min\": 5.09,\n        \"max\": 47.11,\n        \"num_unique_values\": 1809,\n        \"samples\": [\n          43.45\n        ],\n        \"semantic_type\": \"\",\n        \"description\": \"\"\n      }\n    },\n    {\n      \"column\": \"high\",\n      \"properties\": {\n        \"dtype\": \"number\",\n        \"std\": 6.1880306972882995,\n        \"min\": 5.23,\n        \"max\": 48.98,\n        \"num_unique_values\": 1833,\n        \"samples\": [\n          20.26\n        ],\n        \"semantic_type\": \"\",\n        \"description\": \"\"\n      }\n    },\n    {\n      \"column\": \"low\",\n      \"properties\": {\n        \"dtype\": \"number\",\n        \"std\": 5.87442585081976,\n        \"min\": 5.05,\n        \"max\": 47.01,\n        \"num_unique_values\": 1810,\n        \"samples\": [\n          34.96\n        ],\n        \"semantic_type\": \"\",\n        \"description\": \"\"\n      }\n    },\n    {\n      \"column\": \"close\",\n      \"properties\": {\n        \"dtype\": \"number\",\n        \"std\": 6.024472023142465,\n        \"min\": 5.1,\n        \"max\": 48.05,\n        \"num_unique_values\": 1890,\n        \"samples\": [\n          19.44\n        ],\n        \"semantic_type\": \"\",\n        \"description\": \"\"\n      }\n    },\n    {\n      \"column\": \"pre_close\",\n      \"properties\": {\n        \"dtype\": \"number\",\n        \"std\": 6.024391544492707,\n        \"min\": 5.1,\n        \"max\": 48.05,\n        \"num_unique_values\": 1888,\n        \"samples\": [\n          22.45\n        ],\n        \"semantic_type\": \"\",\n        \"description\": \"\"\n      }\n    },\n    {\n      \"column\": \"change\",\n      \"properties\": {\n        \"dtype\": \"number\",\n        \"std\": 0.4263387352636372,\n        \"min\": -3.25,\n        \"max\": 3.45,\n        \"num_unique_values\": 347,\n        \"samples\": [\n          -1.03\n        ],\n        \"semantic_type\": \"\",\n        \"description\": \"\"\n      }\n    },\n    {\n      \"column\": \"pct_chg\",\n      \"properties\": {\n        \"dtype\": \"number\",\n        \"std\": 2.368829879478963,\n        \"min\": -10.02,\n        \"max\": 10.11,\n        \"num_unique_values\": 2564,\n        \"samples\": [\n          -2.3233\n        ],\n        \"semantic_type\": \"\",\n        \"description\": \"\"\n      }\n    },\n    {\n      \"column\": \"vol\",\n      \"properties\": {\n        \"dtype\": \"number\",\n        \"std\": 631318.1378736591,\n        \"min\": 8748.12,\n        \"max\": 5086050.27,\n        \"num_unique_values\": 5998,\n        \"samples\": [\n          772582.15\n        ],\n        \"semantic_type\": \"\",\n        \"description\": \"\"\n      }\n    },\n    {\n      \"column\": \"amount\",\n      \"properties\": {\n        \"dtype\": \"number\",\n        \"std\": 918640.8518677759,\n        \"min\": 6962.1653,\n        \"max\": 8596942.0944,\n        \"num_unique_values\": 6000,\n        \"samples\": [\n          526426.595\n        ],\n        \"semantic_type\": \"\",\n        \"description\": \"\"\n      }\n    }\n  ]\n}"
            }
          },
          "metadata": {},
          "execution_count": 18
        }
      ]
    },
    {
      "cell_type": "code",
      "source": [
        "df3['low']\n",
        "df3.info()"
      ],
      "metadata": {
        "collapsed": true,
        "id": "Cq7QyD9lo120",
        "outputId": "d4fba6dc-1d40-4457-9830-8bd5cc8236a1",
        "colab": {
          "base_uri": "https://localhost:8080/"
        }
      },
      "execution_count": null,
      "outputs": [
        {
          "output_type": "stream",
          "name": "stdout",
          "text": [
            "<class 'pandas.core.frame.DataFrame'>\n",
            "RangeIndex: 6000 entries, 0 to 5999\n",
            "Data columns (total 12 columns):\n",
            " #   Column      Non-Null Count  Dtype  \n",
            "---  ------      --------------  -----  \n",
            " 0   Unnamed: 0  6000 non-null   int64  \n",
            " 1   ts_code     6000 non-null   object \n",
            " 2   trade_date  6000 non-null   int64  \n",
            " 3   open        6000 non-null   float64\n",
            " 4   high        6000 non-null   float64\n",
            " 5   low         6000 non-null   float64\n",
            " 6   close       6000 non-null   float64\n",
            " 7   pre_close   6000 non-null   float64\n",
            " 8   change      6000 non-null   float64\n",
            " 9   pct_chg     6000 non-null   float64\n",
            " 10  vol         6000 non-null   float64\n",
            " 11  amount      6000 non-null   float64\n",
            "dtypes: float64(9), int64(2), object(1)\n",
            "memory usage: 562.6+ KB\n"
          ]
        }
      ]
    },
    {
      "cell_type": "code",
      "source": [
        "(df3['open'] - df3['close'])/df3['open'] > 0.01\n",
        "df3.loc[(df3['open'] - df3['close'])/df3['open'] > 0.01].index"
      ],
      "metadata": {
        "id": "VF7ruxRRo5oQ",
        "outputId": "bafda4cc-beb4-4044-8c4c-ff74e015f034",
        "colab": {
          "base_uri": "https://localhost:8080/"
        }
      },
      "execution_count": null,
      "outputs": [
        {
          "output_type": "execute_result",
          "data": {
            "text/plain": [
              "Index([   1,   12,   21,   27,   43,   47,   54,   59,   69,   72,\n",
              "       ...\n",
              "       5960, 5961, 5964, 5969, 5978, 5979, 5984, 5991, 5995, 5996],\n",
              "      dtype='int64', length=1566)"
            ]
          },
          "metadata": {},
          "execution_count": 20
        }
      ]
    },
    {
      "cell_type": "code",
      "source": [
        "(df3['open'] - df3['close'])\n",
        "df3['close'].shift()"
      ],
      "metadata": {
        "id": "J7hcqXfQo8za"
      },
      "execution_count": null,
      "outputs": []
    },
    {
      "cell_type": "code",
      "source": [
        "df_reset = df3.reset_index(inplace=True)\n",
        "df3['date'] = pd.to_datetime(df3['trade_date'],format='%Y%m%d')\n",
        "df3.set_index('date', inplace=True)\n",
        "df3\n"
      ],
      "metadata": {
        "id": "Tn2be95Po-AH",
        "collapsed": true
      },
      "execution_count": null,
      "outputs": []
    },
    {
      "cell_type": "code",
      "source": [
        "new_df = df3.loc['2024-05-20':'2024-05-24']\n",
        "new_df"
      ],
      "metadata": {
        "id": "Jx_EGS8eo_dP"
      },
      "execution_count": null,
      "outputs": []
    },
    {
      "cell_type": "markdown",
      "source": [
        "**开始算法**"
      ],
      "metadata": {
        "id": "PUJhRDir5pz3"
      }
    },
    {
      "cell_type": "code",
      "source": [
        "df = pd.read_csv('./sz_index.csv')\n",
        "# 设置新列，并读取时间格式\n",
        "df['date'] = pd.to_datetime(df['trade_date'],format='%Y%m%d')\n",
        "# 设置主键\n",
        "df.set_index('date', inplace=True)\n"
      ],
      "metadata": {
        "id": "__DlQ6mR5u6u"
      },
      "execution_count": null,
      "outputs": []
    },
    {
      "cell_type": "code",
      "source": [
        "#均线\n",
        "ma5 = df['close'].rolling(5).mean()\n",
        "ma30 = df['close'].rolling(30).mean()\n"
      ],
      "metadata": {
        "id": "YkVXG6MK6g5M"
      },
      "execution_count": null,
      "outputs": []
    },
    {
      "cell_type": "code",
      "source": [
        "import matplotlib.pyplot as plt\n",
        "plt.plot(ma5[50:])\n",
        "plt.plot(ma30[50:])"
      ],
      "metadata": {
        "id": "uOH2-Rjn6rxl"
      },
      "execution_count": null,
      "outputs": []
    },
    {
      "cell_type": "code",
      "source": [
        "# 条件\n",
        "s1 = ma5 < ma30\n",
        "s2 = ma5 > ma30\n",
        "\n",
        "maDf = df[50:]"
      ],
      "metadata": {
        "id": "e9-PPBiP-e2X"
      },
      "execution_count": null,
      "outputs": []
    },
    {
      "cell_type": "code",
      "source": [
        "death_ex = s2.shift(1) & s1\n",
        "death_date = maDf.loc[death_ex].index\n",
        "\n",
        "golden_ex = s1.shift(1) & s2\n",
        "golden_date = maDf.loc[golden_ex].index\n",
        "\n",
        "golden_date"
      ],
      "metadata": {
        "id": "Q_NnUZBbAbUJ"
      },
      "execution_count": null,
      "outputs": []
    },
    {
      "cell_type": "code",
      "source": [
        "sym1 = pd.Series(data=1, index=golden_date)\n",
        "sym2 = pd.Series(data=0, index=death_date)\n",
        "\n",
        "symData = pd.concat([sym1, sym2])\n",
        "symData = symData.sort_index()\n",
        "symData = symData['2010': '2020']\n",
        "symData"
      ],
      "metadata": {
        "id": "ZUpGE62QAyd4"
      },
      "execution_count": null,
      "outputs": []
    },
    {
      "cell_type": "code",
      "source": [
        "first_money = 100000\n",
        "money = first_money\n",
        "hold = 0\n",
        "for i in range(0, len(symData)):\n",
        "  if symData[i] == 1:\n",
        "    time = symData.index[i]\n",
        "    p = maDf.loc[time]['open']\n",
        "    hand_count = money // (p * 100)\n",
        "    hold = hand_count * 100;\n",
        "    money -= hold * p\n",
        "  elif symData[i] == 0:\n",
        "    time = symData.index[i]\n",
        "    p_death = maDf.loc[time]['open']\n",
        "    money += hold * p_death\n",
        "    hold = 0\n",
        "    hand_count = 0\n",
        "\n",
        "last_money = hold * maDf['close'][-1]\n",
        "\n",
        "money + last_money - first_money\n"
      ],
      "metadata": {
        "id": "D_SPPGh6lZ2w"
      },
      "execution_count": null,
      "outputs": []
    }
  ]
}